{
 "cells": [
  {
   "cell_type": "markdown",
   "id": "0f11b4a5",
   "metadata": {},
   "source": [
    "# Heap\n",
    "def \n",
    "\n",
    "### Remark\n",
    "\n",
    "In Pythion only min heap is implemented.\n",
    "\n",
    "### Useful methods\n",
    "\n",
    "- *heapify*\n",
    "This function converts a regular list to a heap. In the resulting heap the smallest element gets pushed to the index position 0. But rest of the data elements are not necessarily sorted.\n",
    "-*heappush*\n",
    "This function adds an element to the heap without altering the current heap."
   ]
  },
  {
   "cell_type": "code",
   "execution_count": 6,
   "id": "a3df8349",
   "metadata": {},
   "outputs": [
    {
     "name": "stdout",
     "output_type": "stream",
     "text": [
      "Library has been loaded!\n"
     ]
    }
   ],
   "source": [
    "import heapq as h\n",
    "import math\n",
    "from io import StringIO\n",
    "\n",
    "\n",
    "print(\"Library has been loaded!\")"
   ]
  },
  {
   "cell_type": "code",
   "execution_count": 3,
   "id": "a27892b8",
   "metadata": {},
   "outputs": [],
   "source": [
    "def show_tree(tree, total_width=60, fill=' '):\n",
    "    \"\"\"Pretty-print a tree.\n",
    "    total_width depends on your input size\"\"\"\n",
    "    output = StringIO()\n",
    "    last_row = -1\n",
    "    for i, n in enumerate(tree):\n",
    "        if i:\n",
    "            row = int(math.floor(math.log(i+1, 2)))\n",
    "        else:\n",
    "            row = 0\n",
    "        if row != last_row:\n",
    "            output.write('\\n')\n",
    "        columns = 2**row\n",
    "        col_width = int(math.floor((total_width * 1.0) / columns))\n",
    "        output.write(str(n).center(col_width, fill))\n",
    "        last_row = row\n",
    "    print (output.getvalue())\n",
    "    print ('-' * total_width)\n",
    "    return"
   ]
  },
  {
   "cell_type": "code",
   "execution_count": 7,
   "id": "5c77c1b7",
   "metadata": {},
   "outputs": [
    {
     "name": "stdout",
     "output_type": "stream",
     "text": [
      "\n",
      "                             8                              \n",
      "              12                            23              \n",
      "       17             31             30             44      \n",
      "  102     18  \n",
      "------------------------------------------------------------\n"
     ]
    }
   ],
   "source": [
    "arr=[8,12,23,17,31,30,44,102,18]\n",
    "show_tree(arr)"
   ]
  },
  {
   "cell_type": "markdown",
   "id": "945d315e",
   "metadata": {},
   "source": [
    "# Last Stone Weight (1046 LeetCode)\n"
   ]
  },
  {
   "cell_type": "code",
   "execution_count": 3,
   "id": "a6fa4a65",
   "metadata": {},
   "outputs": [],
   "source": [
    "def lastStoneWeight(stones) -> int:\n",
    "    \n",
    "    scaledStones=[e*-1 for e in stones]\n",
    "    h.heapify(scaledStones)\n",
    "    while len(scaledStones)>1:\n",
    "        stone1=h.heappop(scaledStones)\n",
    "        stone2=h.heappop(scaledStones)\n",
    "        if stone1!=stone2:\n",
    "            h.heappush(scaledStones,stone1-stone2)\n",
    "    if stones:\n",
    "        return -h.heappop(scaledStones)\n",
    "    else:\n",
    "        return 0\n",
    "    "
   ]
  },
  {
   "cell_type": "markdown",
   "id": "a956e5bc",
   "metadata": {},
   "source": [
    "# K Closest Points to Origin 973"
   ]
  },
  {
   "cell_type": "code",
   "execution_count": null,
   "id": "f264cd00",
   "metadata": {},
   "outputs": [],
   "source": [
    "def euclidean_distance(point):\n",
    "        return math.sqrt(point[0]**2+point[1]**2)\n",
    "\n",
    "def kClosest(points, k: int):\n",
    "        map_distances={}\n",
    "        for p in points:\n",
    "            dist_p=euclidean_distance(p)\n",
    "            map_distances.update({tuple(p):dist_p})\n",
    "        l_distane_from0=list(map_distances.values()) \n",
    "        l_distane_from0.sort()\n",
    "        k_th_dist=l_distane_from0[k-1]\n",
    "        keys=[k for k,v in map_distances.items() if v<=k_th_dist]\n",
    "          \n",
    "        return map_distances "
   ]
  },
  {
   "cell_type": "markdown",
   "id": "f055380e",
   "metadata": {},
   "source": [
    "The solution above does not pass all tests becasue if we use points' coordinates then the key might be not unique. We need to use another key. A good candidate might be an index. This one work fine!!"
   ]
  },
  {
   "cell_type": "code",
   "execution_count": 14,
   "id": "1233e362",
   "metadata": {},
   "outputs": [],
   "source": [
    "def euclidean_distance(point):\n",
    "        return math.sqrt(point[0]**2+point[1]**2)\n",
    "\n",
    "def kClosest_robust(points, k: int):\n",
    "        map_distances={}\n",
    "        resuls=[]\n",
    "        for i  in range(len(points)):\n",
    "            dist_p=euclidean_distance(points[i])\n",
    "            map_distances.update({i:dist_p})\n",
    "        l_distane_from0=list(map_distances.values()) \n",
    "        l_distane_from0.sort()\n",
    "        k_th_dist=l_distane_from0[k-1]\n",
    "        keys=[k for k,v in map_distances.items() if v<=k_th_dist]\n",
    "        for k in keys:\n",
    "            resuls.append(points[k])\n",
    "        return resuls\n",
    "    "
   ]
  },
  {
   "cell_type": "code",
   "execution_count": 18,
   "id": "2b3d8756",
   "metadata": {},
   "outputs": [
    {
     "name": "stdout",
     "output_type": "stream",
     "text": [
      "The closest points to zero are equal [[2, 2], [2, 2], [2, -2], [1, 1]]\n"
     ]
    }
   ],
   "source": [
    "print(\"The closest points to zero are equal {0}\".\n",
    "      format(kClosest_robust(points=[[2,2],[2,2],[3,3],[2,-2],[1,1]],\n",
    "               k=4)))"
   ]
  },
  {
   "cell_type": "markdown",
   "id": "574f7cf4",
   "metadata": {},
   "source": [
    "### Alternative solution using heap\n",
    "\n"
   ]
  },
  {
   "cell_type": "code",
   "execution_count": null,
   "id": "1f46e10e",
   "metadata": {},
   "outputs": [],
   "source": [
    "def kClosest(points, k: int):\n",
    "        ans = []\n",
    "        min_d = 0\n",
    "        heapq.heapify(ans)\n",
    "        for pt in points:\n",
    "            d = pt[0]**2 + pt[1]**2\n",
    "            heapq.heappush(ans, (-d, pt)) #always push\n",
    "            if len(ans) > k: #pop when\n",
    "                heapq.heappop(ans)\n",
    "\n",
    "        return [y for x, y in ans]"
   ]
  }
 ],
 "metadata": {
  "kernelspec": {
   "display_name": "Python 3 (ipykernel)",
   "language": "python",
   "name": "python3"
  },
  "language_info": {
   "codemirror_mode": {
    "name": "ipython",
    "version": 3
   },
   "file_extension": ".py",
   "mimetype": "text/x-python",
   "name": "python",
   "nbconvert_exporter": "python",
   "pygments_lexer": "ipython3",
   "version": "3.11.0"
  }
 },
 "nbformat": 4,
 "nbformat_minor": 5
}
