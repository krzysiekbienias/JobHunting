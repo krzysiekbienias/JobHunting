{
 "cells": [
  {
   "cell_type": "markdown",
   "id": "be395b16",
   "metadata": {},
   "source": [
    "# Smallest Negative Balance\n"
   ]
  },
  {
   "cell_type": "code",
   "execution_count": 3,
   "id": "685d8b23",
   "metadata": {},
   "outputs": [],
   "source": [
    "def smallestNegativeBalance(debts):\n",
    "    ballance_account_map={}\n",
    "    \n",
    "    for i in range(len(debts)):\n",
    "        borrower = debts[i][0]\n",
    "        lender = debts[i][1]\n",
    "        value = int(debts[i][2])\n",
    "        if borrower in ballance_account_map:\n",
    "            ballance_account_map[borrower] -= value\n",
    "        else:\n",
    "            ballance_account_map[borrower] =- value\n",
    "\n",
    "        if lender in ballance_account_map:\n",
    "            ballance_account_map[lender] += value\n",
    "        else:\n",
    "            ballance_account_map[lender] = value\n",
    "            \n",
    "    min_balance=min(ballance_account_map.values())\n",
    "    print(min_balance)\n",
    "    names=[k for k, v in ballance_account_map.items() if v==min_balance]\n",
    "    names.sort()\n",
    "    return names\n",
    "    \n",
    "    "
   ]
  },
  {
   "cell_type": "code",
   "execution_count": 4,
   "id": "a4a5ec08",
   "metadata": {},
   "outputs": [
    {
     "name": "stdout",
     "output_type": "stream",
     "text": [
      "-3\n"
     ]
    },
    {
     "data": {
      "text/plain": [
       "['Alex', 'Blake']"
      ]
     },
     "execution_count": 4,
     "metadata": {},
     "output_type": "execute_result"
    }
   ],
   "source": [
    "debts=['Alex Blake 2','Blake Alex 2','Casey Alex 5', 'Blake Casey 7', 'Alex Blake 4','Alex Casey 4']\n",
    "debts_splited=[]\n",
    "for d in debts:\n",
    "    temp=d.split()\n",
    "    debts_splited.append(temp)\n",
    "debts_splited    \n",
    "smallestNegativeBalance(debts_splited)"
   ]
  },
  {
   "cell_type": "markdown",
   "id": "c3637fd9",
   "metadata": {},
   "source": [
    "# Parking Dilema"
   ]
  },
  {
   "cell_type": "code",
   "execution_count": null,
   "id": "e51b89c5",
   "metadata": {},
   "outputs": [],
   "source": [
    "def parking_dilema(cars,k):\n",
    "    cars.sort()\n",
    "    results=float(\"inf\")\n",
    "    n=len(cars)\n",
    "    for i in range(n-k+1):\n",
    "        results=int(min(results,cars[i+k-1]-cars[i]+1))\n",
    "    return results"
   ]
  },
  {
   "cell_type": "markdown",
   "id": "f58e9d69",
   "metadata": {},
   "source": [
    "# Int to Roman (leetcode)"
   ]
  },
  {
   "cell_type": "code",
   "execution_count": 6,
   "id": "ff2a7df4",
   "metadata": {},
   "outputs": [],
   "source": [
    "def intToRoman(num: int) -> str:\n",
    "    t_digits = [(\"M\", 1000), (\"D\", 500), (\"C\", 100),\n",
    "                (\"L\", 50), (\"X\", 10),\n",
    "                (\"V\", 5), (\"I\", 1),\n",
    "                (\"CM\", 900), (\"CD\", 400), (\"XC\", 90), (\"IX\", 9), (\"XL\", 40), (\"IV\", 4)]\n",
    "    t_digits.sort(key=lambda x:x[1],reverse=True)\n",
    "    roman_int = []\n",
    "    for symbol, value in t_digits:\n",
    "        if num == 0:\n",
    "            break\n",
    "        count, num = divmod(num, value)\n",
    "        roman_int.append(symbol * count)\n",
    "    roman_num = \"\".join(roman_int)\n",
    "    return roman_num"
   ]
  },
  {
   "cell_type": "code",
   "execution_count": 9,
   "id": "67948e4c",
   "metadata": {},
   "outputs": [
    {
     "data": {
      "text/plain": [
       "'XXIII'"
      ]
     },
     "execution_count": 9,
     "metadata": {},
     "output_type": "execute_result"
    }
   ],
   "source": [
    "intToRoman(23)"
   ]
  },
  {
   "cell_type": "markdown",
   "id": "b6a107ae",
   "metadata": {},
   "source": [
    "# Ancestral Names\n"
   ]
  },
  {
   "cell_type": "code",
   "execution_count": 21,
   "id": "29f08143",
   "metadata": {},
   "outputs": [],
   "source": [
    "def romanToInt(roman_string):\n",
    "    roman_int_map={\"I\":1,\"V\":5,\"X\":10,\"L\":50,\"C\":100,\"D\":500,\"M\":1000}\n",
    "    val = 0\n",
    "    previous = \"\"\n",
    "    for i in roman_string:\n",
    "        x = roman_int_map[i]\n",
    "        if (i == \"V\" or i == \"X\") and previous == \"I\":\n",
    "            val -= 1\n",
    "            val += (x - 1)\n",
    "\n",
    "        elif (i == \"L\" or i == \"C\") and previous == \"X\":\n",
    "            val -= 10\n",
    "            val += (x - 10)\n",
    "\n",
    "        elif (i == \"D\" or i == \"M\") and previous == \"C\":\n",
    "            val -= 100\n",
    "            val += (x - 100)\n",
    "\n",
    "        else:\n",
    "            val += x\n",
    "\n",
    "        previous = i\n",
    "\n",
    "    return val\n",
    "\n",
    "\n",
    "def sortRoman(names):\n",
    "    name_arr=[]\n",
    "    for el in names:\n",
    "        name,roman_num=el.split()\n",
    "        arabic_num=romanToInt(roman_num)\n",
    "        name_arr.append((name,arabic_num,el))\n",
    "    name_arr.sort(key=lambda x:[x[0],x[1]])\n",
    "    results=list(map(lambda x:x[2],name_arr))\n",
    "    return results\n",
    "        "
   ]
  },
  {
   "cell_type": "code",
   "execution_count": 22,
   "id": "f5e9801a",
   "metadata": {},
   "outputs": [
    {
     "data": {
      "text/plain": [
       "['David IX', 'Mary XIII', 'Mary XV', 'Mary XX', 'Steven XVI', 'Steven XL']"
      ]
     },
     "execution_count": 22,
     "metadata": {},
     "output_type": "execute_result"
    }
   ],
   "source": [
    "test_names=['Steven XL','Steven XVI', 'David IX','Mary XV','Mary XIII','Mary XX']\n",
    "sortRoman(test_names)"
   ]
  },
  {
   "cell_type": "markdown",
   "id": "15ddd081",
   "metadata": {},
   "source": [
    "# Equity Order Matching"
   ]
  },
  {
   "cell_type": "code",
   "execution_count": null,
   "id": "0b1f11f7",
   "metadata": {},
   "outputs": [],
   "source": [
    "def get_action(a_query):\n",
    "    if a_query[0] == 'N':\n",
    "        return 'new_order'\n",
    "    if a_query[0] == 'A':\n",
    "        return 'ammend'\n",
    "    if a_query[0] == 'X':\n",
    "        return 'cancel'\n",
    "    if a_query[0] == 'M':\n",
    "        return 'match'\n",
    "    if a_query[0] == 'Q':\n",
    "        return 'query'\n",
    "\n",
    "\n",
    "def create_query_dictionary(a_query):\n",
    "    commands = ['action', 'order_id', 'timestamp',\n",
    "                'symbol', 'order_type', 'side', 'price', 'quantity']\n",
    "    l_a_query = a_query.split(',')\n",
    "    d_commands = dict(zip(commands, l_a_query))\n",
    "    return d_commands\n",
    "\n",
    "\n",
    "def valid_new_order(d_query):\n",
    "    n_quantity = 0\n",
    "    try:\n",
    "        n_quantity = int(d_query['quantity'])\n",
    "        return str(d_query['order_id'])+' - Accept'\n",
    "\n",
    "    except:\n",
    "        return str(d_query['order_id'])+' Reject - 303 - Invalid order details'\n",
    "\n",
    "\n",
    "def QueryPileControl(command=None, query_dict=None, query=None, pile_query=None, query_result=None):\n",
    "    if command == 'new_order' and 'Accept' in query_result:\n",
    "\n",
    "        pile_query.update({query_dict['order_id']: query})\n",
    "        print('New query was valid and put on the pile.')\n",
    "    if command == 'ammend' and query_dict['order_id'] in pile_query.keys():\n",
    "        return True\n",
    "    if command == 'cancel' and query_dict['order_id'] in pile_query.keys():\n",
    "        return True\n",
    "    if command == 'match' and query_dict['order_id'] in pile_query.keys():\n",
    "        return True\n",
    "\n",
    "    return pile_query\n",
    "\n",
    "\n",
    "def valid_ammend_query(d_query, booked_query):\n",
    "    if QueryPileControl(command='ammend', pile_query=booked_query, query_dict=d_query):\n",
    "        print('Query exists and we are able to ammend')\n",
    "        print('We are going to amend query {0}'.format(d_query['order_id']))\n",
    "\n",
    "        if float(booked_query[d_query['order_id']].split(',')[6]) != float(d_query['price']):\n",
    "            print('Price has been changed!')\n",
    "            return str(d_query['order_id'])+\" - AmendAccept\"\n",
    "\n",
    "        elif int(booked_query[d_query['order_id']].split(',')[7]) != int(d_query['quantity']):\n",
    "            print('Quantity has been changed!')\n",
    "            return str(d_query['order_id'])+\" - AmendAccept\"\n",
    "        elif booked_query[d_query['order_id']].split(',')[5] != d_query['side']:\n",
    "            return str(d_query['order_id'])+\" - 101 - Invalid amendment details\"\n",
    "        elif booked_query[d_query['order_id']].split(',')[1] != d_query['timestamp']:\n",
    "            return str(d_query['order_id'])+\" - 101 - Invalid amendment details\"\n",
    "\n",
    "    else:\n",
    "        return str(d_query['order_id'])+\" - 404 - Order does not exists\"\n",
    "\n",
    "\n",
    "def validCancelQuery(d_query, booked_query):\n",
    "    if QueryPileControl(command='ammend', pile_query=booked_query, query_dict=d_query):\n",
    "        print('Query exists and we are able to cancel a query')\n",
    "        print('We are going to cancel query {0}'.format(d_query['order_id']))\n",
    "        booked_query.pop(d_query['order_id'], None)\n",
    "        return str(d_query['order_id'])+\" - CancelAccept\"\n",
    "    else:\n",
    "        return str(d_query['order_id'])+\" - CancelReject - 404 - Order does not exist\"\n",
    "\n",
    "\n",
    "def concatenateMatching(dict_value_buy, dict_value_sell):\n",
    "    out_str = ''\n",
    "    l_strings_buy = dict_value_buy.split(',')\n",
    "    l_strings_sell = dict_value_sell.split(',')\n",
    "    out_str = out_str.join([l_strings_buy[3], '|', l_strings_buy[1], ',', l_strings_buy[4], ',', l_strings_buy[7], ',',\n",
    "                           l_strings_buy[6], '|', l_strings_sell[6], ',', l_strings_sell[7], ',', l_strings_sell[3], ',', l_strings_sell[1]])\n",
    "    return out_str\n",
    "\n",
    "\n",
    "def matchQuery(d_query, booked_query, time_stamp=None, sympol=None):\n",
    "    matched_buy = {}\n",
    "    matched_sell = {}\n",
    "    if QueryPileControl(command='match', pile_query=booked_query, query_dict=d_query):\n",
    "        print('Query exists and we are able to perform matching')\n",
    "        matched_buy = dict(filter(lambda x: x[1].split(',')[\n",
    "                           5] == 'B', booked_query.items()))\n",
    "        matched_highest_price = max(matched_buy, key=matched_buy.get)\n",
    "        matched_sell = dict(filter(lambda x: x[1].split(',')[\n",
    "                            5] == 'S', booked_query.items()))\n",
    "        matched_lowest_sell = min(matched_sell, key=matched_sell.get)\n",
    "        matcher_output = concatenateMatching(dict_value_buy=booked_query[matched_highest_price],\n",
    "                                             dict_value_sell=booked_query[matched_lowest_sell])\n",
    "   \n",
    "\n",
    "\n",
    "# I have modified input so be careful with comparison\n",
    "def processQueries(queries):\n",
    "\n",
    "    d_pile_dict = dict()\n",
    "    for q in queries:\n",
    "        action = get_action(q)\n",
    "        print('We are trying to call {}'.format(q[0]))\n",
    "        print('We are analysig query {0}'.format(q))\n",
    "        a_query_dict = create_query_dictionary(q)\n",
    "        print('dictionary repsentation of query {0}'.format(a_query_dict))\n",
    "        if action == 'new_order':\n",
    "            print('We are trying to book query with id {0}'.format(\n",
    "                a_query_dict['order_id']))\n",
    "            print(valid_new_order(a_query_dict))\n",
    "            QueryPileControl(query=q, query_dict=a_query_dict, command=action,\n",
    "                             pile_query=d_pile_dict, query_result=valid_new_order(a_query_dict))\n",
    "\n",
    "            print('-'*100)\n",
    "        elif action == 'ammend':\n",
    "\n",
    "            valid_ammend_query(a_query_dict, booked_query=d_pile_dict)\n",
    "            print('-'*100)\n",
    "\n",
    "        elif action == 'cancel':\n",
    "\n",
    "            validCancelQuery(a_query_dict, booked_query=d_pile_dict)\n",
    "            print('-'*100)\n",
    "\n",
    "        elif action == 'match':\n",
    "            matchQuery(a_query_dict, booked_query=d_pile_dict)\n",
    "            print('-'*100)\n",
    "\n",
    "        else:\n",
    "            print('query not recognised')\n",
    "            print('-'*100)\n",
    "            "
   ]
  },
  {
   "cell_type": "markdown",
   "id": "9e63bd3e",
   "metadata": {},
   "source": [
    "# Roll a dice"
   ]
  },
  {
   "cell_type": "markdown",
   "id": "c3939ac8",
   "metadata": {},
   "source": [
    "### Problem\n",
    "You have just rolled a dice several times. The $N$ roll results that you remember are described by an array $A$. However, there are $F$ rolls whose results you have forgotten. The arithmetic mean of all of the roll results equals $M$\n",
    "\n",
    "What are the possible results of the missing rolls?\n",
    "\n",
    "### Algorithm\n",
    "* Number of Rolls -> $N+F$, $N=len(A)$, $F$ is the number of forgotten throws\n",
    "* Sum of rolls ->$sum(A)+ x$, where x is the sum of forgotten throws.\n",
    "$$M=\\frac{sumOfRolls}{numberOfRolls}=\\frac{sum(A)+x}{N+F}$$\n",
    "Hence\n",
    "$x=M(N+F)-sum(A)$ so we expressed the sum of forgotten throws.\n",
    "\n",
    "* check if solution exists. Solution exists if and only if maximum sum we can get with F rolls is grater or equal $x\\leq (6*F)$ and $x$ should be grater than F rolls of ones.\n",
    "\n",
    "\n"
   ]
  },
  {
   "cell_type": "code",
   "execution_count": 2,
   "id": "caca023f",
   "metadata": {},
   "outputs": [
    {
     "name": "stdout",
     "output_type": "stream",
     "text": [
      "[6, 1, 1, 1]\n",
      "[6, 6]\n"
     ]
    }
   ],
   "source": [
    "def rollDice(A,F,M):\n",
    "    N=len(A)\n",
    "    x=M*(N+F)-sum(A)\n",
    "    if x>=F and x<=6*F: #condition for existing solution\n",
    "        ans=[1]*F\n",
    "        rem_x=x-F\n",
    "        i=0\n",
    "        while rem_x!=0:\n",
    "            if rem_x>5:\n",
    "                ans[i]+=5\n",
    "                rem_x-=5\n",
    "                i+=1\n",
    "            else:\n",
    "                ans[i]+=rem_x\n",
    "                rem_x=0\n",
    "        return ans\n",
    "    else:\n",
    "        return [0]\n",
    "print(rollDice(A=[1,5,6],F=4,M=3))\n",
    "print(rollDice(A=[3,2,4,3],F=2,M=4))\n",
    "    "
   ]
  },
  {
   "cell_type": "code",
   "execution_count": null,
   "id": "5d8ba333",
   "metadata": {},
   "outputs": [],
   "source": [
    "\n"
   ]
  }
 ],
 "metadata": {
  "kernelspec": {
   "display_name": "Python 3 (ipykernel)",
   "language": "python",
   "name": "python3"
  },
  "language_info": {
   "codemirror_mode": {
    "name": "ipython",
    "version": 3
   },
   "file_extension": ".py",
   "mimetype": "text/x-python",
   "name": "python",
   "nbconvert_exporter": "python",
   "pygments_lexer": "ipython3",
   "version": "3.11.0"
  }
 },
 "nbformat": 4,
 "nbformat_minor": 5
}
