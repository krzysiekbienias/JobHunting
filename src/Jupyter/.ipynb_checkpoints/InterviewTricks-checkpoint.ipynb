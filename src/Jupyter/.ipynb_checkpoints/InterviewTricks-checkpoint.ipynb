{
 "cells": [
  {
   "cell_type": "markdown",
   "id": "09cf81af",
   "metadata": {},
   "source": [
    "# How to sort by dictionary by values."
   ]
  },
  {
   "cell_type": "code",
   "execution_count": 1,
   "id": "f1848d18",
   "metadata": {},
   "outputs": [
    {
     "data": {
      "text/plain": [
       "{'z': 5, 'e': 2, 't': 1, 'r': 1}"
      ]
     },
     "execution_count": 1,
     "metadata": {},
     "output_type": "execute_result"
    }
   ],
   "source": [
    "d1={\"t\":1,\"r\":1,\"e\":2,\"z\":5}\n",
    "sorted_di=sorted_by_value={k:v for k, v in sorted(d1.items(), key=lambda item: item[1],reverse=True)}\n",
    "sorted_di"
   ]
  },
  {
   "cell_type": "markdown",
   "id": "feef5cf9",
   "metadata": {},
   "source": [
    "# How to make capital letters"
   ]
  },
  {
   "cell_type": "code",
   "execution_count": 1,
   "id": "47c28f53",
   "metadata": {},
   "outputs": [
    {
     "data": {
      "text/plain": [
       "'ABS PL'"
      ]
     },
     "execution_count": 1,
     "metadata": {},
     "output_type": "execute_result"
    }
   ],
   "source": [
    "s1='abs pl'\n",
    "cap=s1.upper()\n",
    "cap"
   ]
  },
  {
   "cell_type": "markdown",
   "id": "cf827cec",
   "metadata": {},
   "source": [
    "# Greates Common Divisors and the Least Common Multiplie"
   ]
  },
  {
   "cell_type": "code",
   "execution_count": 8,
   "id": "0895681a",
   "metadata": {},
   "outputs": [],
   "source": [
    "def gcd(a,b):\n",
    "    if (a==0):\n",
    "        return b\n",
    "    elif (b==0):\n",
    "        return a\n",
    "    if (a<b):\n",
    "        return gcd(a,b%a)\n",
    "    else:\n",
    "        return gcd(b,a%b)"
   ]
  },
  {
   "cell_type": "code",
   "execution_count": 13,
   "id": "9f90adac",
   "metadata": {},
   "outputs": [
    {
     "data": {
      "text/plain": [
       "3"
      ]
     },
     "execution_count": 13,
     "metadata": {},
     "output_type": "execute_result"
    }
   ],
   "source": [
    "gcd(15,24)"
   ]
  },
  {
   "cell_type": "markdown",
   "id": "d3042137",
   "metadata": {},
   "source": [
    "# Stats\n"
   ]
  },
  {
   "cell_type": "markdown",
   "id": "10a6ea8a",
   "metadata": {},
   "source": [
    "## Median"
   ]
  },
  {
   "cell_type": "code",
   "execution_count": 3,
   "id": "fb2161a3",
   "metadata": {},
   "outputs": [],
   "source": [
    "def find_median(arr):\n",
    "    median=0\n",
    "    arr.sort()\n",
    "    middle_index=int(len(arr)/2)\n",
    "    if len(arr)%2!=0:\n",
    "        median=arr[middle_index]\n",
    "        return median\n",
    "    else:\n",
    "        median=(arr[middle_index]+arr[middle_index-1])/2\n",
    "        return median"
   ]
  },
  {
   "cell_type": "code",
   "execution_count": 6,
   "id": "81930293",
   "metadata": {},
   "outputs": [
    {
     "data": {
      "text/plain": [
       "2.5"
      ]
     },
     "execution_count": 6,
     "metadata": {},
     "output_type": "execute_result"
    }
   ],
   "source": [
    "find_median([0,1,2,3,4,5])"
   ]
  },
  {
   "cell_type": "markdown",
   "id": "d1c5993e",
   "metadata": {},
   "source": [
    "## Mode"
   ]
  },
  {
   "cell_type": "code",
   "execution_count": null,
   "id": "f9c71db9",
   "metadata": {},
   "outputs": [],
   "source": [
    "def find_mode(arr):\n",
    "    pass\n"
   ]
  },
  {
   "cell_type": "markdown",
   "id": "d4b151ec",
   "metadata": {},
   "source": [
    "# Probability"
   ]
  },
  {
   "cell_type": "markdown",
   "id": "f18962f6",
   "metadata": {},
   "source": [
    "## Err Function"
   ]
  },
  {
   "cell_type": "code",
   "execution_count": null,
   "id": "cbabe3f1",
   "metadata": {},
   "outputs": [],
   "source": []
  }
 ],
 "metadata": {
  "kernelspec": {
   "display_name": "Python 3 (ipykernel)",
   "language": "python",
   "name": "python3"
  },
  "language_info": {
   "codemirror_mode": {
    "name": "ipython",
    "version": 3
   },
   "file_extension": ".py",
   "mimetype": "text/x-python",
   "name": "python",
   "nbconvert_exporter": "python",
   "pygments_lexer": "ipython3",
   "version": "3.11.0"
  }
 },
 "nbformat": 4,
 "nbformat_minor": 5
}
