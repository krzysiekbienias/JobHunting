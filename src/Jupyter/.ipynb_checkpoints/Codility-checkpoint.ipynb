{
 "cells": [
  {
   "cell_type": "markdown",
   "id": "82f977ba",
   "metadata": {},
   "source": [
    "# Longest password\n",
    "\n",
    "You would like to set a password for a bank account. However, there are three restrictions on the format of the password:\n",
    "\n",
    "* it has to contain only alphanumerical characters (a−z, A−Z, 0−9);\n",
    "* there should be an even number of letters;\n",
    "* there should be an odd number of digits.\n",
    "\n",
    "For example, given \"test 5 a0A pass007 ?xy1\", there are five words and three of them are valid passwords: \"5\", \"a0A\" and \"pass007\". Thus the longest password is \"pass007\" and its length is 7. Note that neither \"test\" nor \"?xy1\" is a valid password, because \"?\" is not an alphanumerical character and \"test\" contains an even number of digits (zero).\n",
    "\n",
    "For example, given S = \"test 5 a0A pass007 ?xy1\", your function should return 7, as explained above."
   ]
  },
  {
   "cell_type": "code",
   "execution_count": 19,
   "id": "846da361",
   "metadata": {},
   "outputs": [],
   "source": [
    "small_letter='abcdefghijklmnopqrstuvwxyz'\n",
    "capital_letter=small_letter.upper()\n",
    "numbers='0123456789'\n",
    "\n",
    "\n",
    "def find_len(password):\n",
    "    letter_counter=0\n",
    "    number_counter=0\n",
    "    if ch not in small_letter+capital_letter+numbers:\n",
    "            return None\n",
    "    if ch in small_letter or ch in capital_letter:\n",
    "            letter_counter+=1\n",
    "    elif ch in numbers:\n",
    "            number_counter+=1\n",
    "    if letter_counter%2==0 and number_counter%2!=0:\n",
    "        return len(password)\n",
    "    else :\n",
    "        return None\n",
    "\n",
    "\n",
    "def solution(S):\n",
    "    max_lenght=-1\n",
    "    characters=S.split()\n",
    "    for password in characters:\n",
    "        temp_lenght=find_len(password=password)\n",
    "        if temp_lenght is not None:\n",
    "            max_lenght=max(max_lenght,temp_lenght)\n",
    "        else:\n",
    "            continue\n",
    "    return max_lenght\n",
    "\n"
   ]
  },
  {
   "cell_type": "code",
   "execution_count": 12,
   "id": "e2479297",
   "metadata": {},
   "outputs": [
    {
     "data": {
      "text/plain": [
       "7"
      ]
     },
     "execution_count": 12,
     "metadata": {},
     "output_type": "execute_result"
    }
   ],
   "source": [
    "example_test=\"test 5 a0A pass007 ?xy1\"\n",
    "solution(example_test)"
   ]
  },
  {
   "cell_type": "code",
   "execution_count": 13,
   "id": "06d7cc4e",
   "metadata": {},
   "outputs": [
    {
     "data": {
      "text/plain": [
       "-1"
      ]
     },
     "execution_count": 13,
     "metadata": {},
     "output_type": "execute_result"
    }
   ],
   "source": [
    "special_characters_test=\"zaq!2#edc\"\n",
    "solution(special_characters_test)"
   ]
  },
  {
   "cell_type": "markdown",
   "id": "00eccad7",
   "metadata": {},
   "source": [
    "# FirstUnique\n",
    "A non-empty array A consisting of N integers is given. The unique number is the number that occurs exactly once in array A. For example, the following array $A=[4,10,5,4,2,10]$ contains two unique numbers (5 and 2).\n",
    "\n",
    "You should find the first unique number in A. In other words, find the unique number with the lowest position in A."
   ]
  },
  {
   "cell_type": "code",
   "execution_count": null,
   "id": "f6e30d91",
   "metadata": {},
   "outputs": [],
   "source": [
    "def solution(A):\n",
    "    occurance_map={}\n",
    "    for a in A:\n",
    "        if a in occurance_map:\n",
    "            occurance_map[a]+=1\n",
    "        else:\n",
    "            occurance_map[a]=1\n",
    "    \n",
    "    unique_el=[k for k,v in occurance_map.items() if v==1]\n",
    "    if len(unique_el)>0:\n",
    "        return unique_el[0]      \n",
    "    else:\n",
    "        return -1  "
   ]
  },
  {
   "cell_type": "markdown",
   "id": "741402de",
   "metadata": {},
   "source": [
    "#  OddOccurrencesInArray\n",
    "First solution does not pass all tests however i do not know why."
   ]
  },
  {
   "cell_type": "code",
   "execution_count": 1,
   "id": "7cd59fde",
   "metadata": {},
   "outputs": [],
   "source": [
    "def OddOccurancesInArray(A):\n",
    "    if len(A)==1:\n",
    "        return A[0]\n",
    "    occurance_map={}\n",
    "    for a in A:\n",
    "        if a in occurance_map:\n",
    "            occurance_map[a]+=1\n",
    "        else:\n",
    "            occurance_map[a]=1\n",
    "    res=[k for k,v in occurance_map.items() if v==1]\n",
    "    return res[0]"
   ]
  },
  {
   "cell_type": "code",
   "execution_count": null,
   "id": "f9a3faf2",
   "metadata": {},
   "outputs": [],
   "source": [
    "#detected time complexity is O(n) or O(n*log(n))\n",
    "def OddOccurancesInArray(A):\n",
    "    if len(A)==1:\n",
    "        return A[0]\n",
    "    A.sort()\n",
    "    for i in range(0,len(A),2):\n",
    "        if i+1==len(A):\n",
    "            return A[i]\n",
    "        elif A[i]!=A[i+1]:\n",
    "            return A[i]\n",
    "        \n",
    "        \n",
    "        \n",
    "        \n"
   ]
  },
  {
   "cell_type": "markdown",
   "id": "edf87312",
   "metadata": {},
   "source": [
    "# Brackets\n",
    "\n",
    "--Algorithm--\n",
    "\n",
    "* 1. Initialize a stack S.\n",
    "* 2. Process each bracket of the expression one at a time.\n",
    "* 3. If we encounter an opening bracket, we simply push it onto the stack. This means we will process it later, let us simply move onto the sub-expression ahead.\n",
    "* 4. If we encounter a closing bracket, then we check the element on top of the stack. If the element at the top of the stack is an opening bracket of the same type, then we pop it off the stack and continue processing. Else, this implies an invalid expression.\n",
    "* 5. In the end, if we are left with a stack still having elements, then this implies an invalid expression.\n",
    "\n"
   ]
  },
  {
   "cell_type": "code",
   "execution_count": 14,
   "id": "719e138e",
   "metadata": {},
   "outputs": [],
   "source": [
    "def brackets(S):  \n",
    "    stack=[]\n",
    "    bractes_map={')':'(',']':'[','}':'{'}\n",
    "\n",
    "    for ch in S:\n",
    "        #if character is a closing bracket\n",
    "        if ch in bractes_map:\n",
    "            top_element=stack.pop() if stack else '$'\n",
    "            if bractes_map[ch]!=top_element:\n",
    "                return 0\n",
    "        else:\n",
    "            stack.append(ch)        \n",
    "    if not stack:\n",
    "        return 1\n",
    "    else:\n",
    "        return 0"
   ]
  },
  {
   "cell_type": "code",
   "execution_count": 13,
   "id": "e5945199",
   "metadata": {},
   "outputs": [
    {
     "data": {
      "text/plain": [
       "0"
      ]
     },
     "execution_count": 13,
     "metadata": {},
     "output_type": "execute_result"
    }
   ],
   "source": [
    "brackets('([)()]')"
   ]
  },
  {
   "cell_type": "code",
   "execution_count": null,
   "id": "43e7d50a",
   "metadata": {},
   "outputs": [],
   "source": []
  }
 ],
 "metadata": {
  "kernelspec": {
   "display_name": "Python 3 (ipykernel)",
   "language": "python",
   "name": "python3"
  },
  "language_info": {
   "codemirror_mode": {
    "name": "ipython",
    "version": 3
   },
   "file_extension": ".py",
   "mimetype": "text/x-python",
   "name": "python",
   "nbconvert_exporter": "python",
   "pygments_lexer": "ipython3",
   "version": "3.11.0"
  }
 },
 "nbformat": 4,
 "nbformat_minor": 5
}
