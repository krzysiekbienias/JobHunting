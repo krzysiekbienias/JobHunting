{
 "cells": [
  {
   "cell_type": "markdown",
   "id": "0f11b4a5",
   "metadata": {},
   "source": [
    "# Heap\n",
    "def \n",
    "\n",
    "### Remark\n",
    "\n",
    "In Pythion only min heap is implemented.\n",
    "\n",
    "### Useful methods\n",
    "\n",
    "- *heapify*\n",
    "This function converts a regular list to a heap. In the resulting heap the smallest element gets pushed to the index position 0. But rest of the data elements are not necessarily sorted.\n",
    "-*heappush*\n",
    "This function adds an element to the heap without altering the current heap."
   ]
  },
  {
   "cell_type": "code",
   "execution_count": 18,
   "id": "a3df8349",
   "metadata": {},
   "outputs": [
    {
     "ename": "ModuleNotFoundError",
     "evalue": "No module named 'typo'",
     "output_type": "error",
     "traceback": [
      "\u001b[0;31m---------------------------------------------------------------------------\u001b[0m",
      "\u001b[0;31mModuleNotFoundError\u001b[0m                       Traceback (most recent call last)",
      "Cell \u001b[0;32mIn [18], line 4\u001b[0m\n\u001b[1;32m      2\u001b[0m \u001b[38;5;28;01mimport\u001b[39;00m \u001b[38;5;21;01mmath\u001b[39;00m\n\u001b[1;32m      3\u001b[0m \u001b[38;5;28;01mfrom\u001b[39;00m \u001b[38;5;21;01mio\u001b[39;00m \u001b[38;5;28;01mimport\u001b[39;00m StringIO\n\u001b[0;32m----> 4\u001b[0m \u001b[38;5;28;01mfrom\u001b[39;00m \u001b[38;5;21;01mtypo\u001b[39;00m \u001b[38;5;28;01mimport\u001b[39;00m List\n\u001b[1;32m      6\u001b[0m \u001b[38;5;28mprint\u001b[39m(\u001b[38;5;124m\"\u001b[39m\u001b[38;5;124mLibrary has been loaded!\u001b[39m\u001b[38;5;124m\"\u001b[39m)\n",
      "\u001b[0;31mModuleNotFoundError\u001b[0m: No module named 'typo'"
     ]
    }
   ],
   "source": [
    "import heapq as h\n",
    "import math\n",
    "from io import StringIO\n",
    "from typo import List\n",
    "\n",
    "print(\"Library has been loaded!\")"
   ]
  },
  {
   "cell_type": "code",
   "execution_count": 3,
   "id": "a27892b8",
   "metadata": {},
   "outputs": [],
   "source": [
    "def show_tree(tree, total_width=60, fill=' '):\n",
    "    \"\"\"Pretty-print a tree.\n",
    "    total_width depends on your input size\"\"\"\n",
    "    output = StringIO()\n",
    "    last_row = -1\n",
    "    for i, n in enumerate(tree):\n",
    "        if i:\n",
    "            row = int(math.floor(math.log(i+1, 2)))\n",
    "        else:\n",
    "            row = 0\n",
    "        if row != last_row:\n",
    "            output.write('\\n')\n",
    "        columns = 2**row\n",
    "        col_width = int(math.floor((total_width * 1.0) / columns))\n",
    "        output.write(str(n).center(col_width, fill))\n",
    "        last_row = row\n",
    "    print (output.getvalue())\n",
    "    print ('-' * total_width)\n",
    "    return"
   ]
  },
  {
   "cell_type": "code",
   "execution_count": 7,
   "id": "5c77c1b7",
   "metadata": {},
   "outputs": [
    {
     "name": "stdout",
     "output_type": "stream",
     "text": [
      "\n",
      "                             8                              \n",
      "              12                            23              \n",
      "       17             31             30             44      \n",
      "  102     18  \n",
      "------------------------------------------------------------\n"
     ]
    }
   ],
   "source": [
    "arr=[8,12,23,17,31,30,44,102,18]\n",
    "show_tree(arr)"
   ]
  },
  {
   "cell_type": "markdown",
   "id": "945d315e",
   "metadata": {},
   "source": [
    "# Last Stone Weight (1046 LeetCode)\n"
   ]
  },
  {
   "cell_type": "code",
   "execution_count": 17,
   "id": "a6fa4a65",
   "metadata": {},
   "outputs": [
    {
     "ename": "NameError",
     "evalue": "name 'List' is not defined",
     "output_type": "error",
     "traceback": [
      "\u001b[0;31m---------------------------------------------------------------------------\u001b[0m",
      "\u001b[0;31mNameError\u001b[0m                                 Traceback (most recent call last)",
      "Cell \u001b[0;32mIn [17], line 1\u001b[0m\n\u001b[0;32m----> 1\u001b[0m \u001b[38;5;28;01mdef\u001b[39;00m \u001b[38;5;21mlastStoneWeight\u001b[39m(stones: \u001b[43mList\u001b[49m[\u001b[38;5;28mint\u001b[39m]) \u001b[38;5;241m-\u001b[39m\u001b[38;5;241m>\u001b[39m \u001b[38;5;28mint\u001b[39m:\n\u001b[1;32m      3\u001b[0m     scaledStones\u001b[38;5;241m=\u001b[39m[e\u001b[38;5;241m*\u001b[39m\u001b[38;5;241m-\u001b[39m\u001b[38;5;241m1\u001b[39m \u001b[38;5;28;01mfor\u001b[39;00m e \u001b[38;5;129;01min\u001b[39;00m stones]\n\u001b[1;32m      4\u001b[0m     h\u001b[38;5;241m.\u001b[39mheapify(scaledStones)\n",
      "\u001b[0;31mNameError\u001b[0m: name 'List' is not defined"
     ]
    }
   ],
   "source": [
    "def lastStoneWeight(stones: List[int]) -> int:\n",
    "    \n",
    "    scaledStones=[e*-1 for e in stones]\n",
    "    h.heapify(scaledStones)\n",
    "    while len(scaledStones)>1:\n",
    "        stone1=h.heappop(scaledStones)\n",
    "        stone2=h.heappop(scaledStones)\n",
    "        if stone1!=stone2:\n",
    "            h.heappush(scaledStones,stone1-stone2)\n",
    "    if stones:\n",
    "        return -h.heappop(scaledStones)\n",
    "    else:\n",
    "        return 0\n",
    "    "
   ]
  },
  {
   "cell_type": "code",
   "execution_count": null,
   "id": "49a85bbe",
   "metadata": {},
   "outputs": [],
   "source": []
  }
 ],
 "metadata": {
  "kernelspec": {
   "display_name": "Python 3 (ipykernel)",
   "language": "python",
   "name": "python3"
  },
  "language_info": {
   "codemirror_mode": {
    "name": "ipython",
    "version": 3
   },
   "file_extension": ".py",
   "mimetype": "text/x-python",
   "name": "python",
   "nbconvert_exporter": "python",
   "pygments_lexer": "ipython3",
   "version": "3.11.0"
  }
 },
 "nbformat": 4,
 "nbformat_minor": 5
}
