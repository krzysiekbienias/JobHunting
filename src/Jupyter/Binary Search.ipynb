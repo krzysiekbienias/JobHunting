{
 "cells": [
  {
   "cell_type": "markdown",
   "id": "64e17b99",
   "metadata": {},
   "source": [
    "# Binary Search"
   ]
  },
  {
   "cell_type": "markdown",
   "id": "1023993c",
   "metadata": {},
   "source": [
    "### Find the Distance Value Between Two Arrays ()\n",
    "Given two integer arrays arr1 and arr2, and the integer d, return the distance value between the two arrays.\n",
    "\n",
    "The distance value is defined as the number of elements arr1[i] such that there is not any element arr2[j] where |arr1[i]-arr2[j]| <= d."
   ]
  },
  {
   "cell_type": "markdown",
   "id": "db9d3976",
   "metadata": {},
   "source": [
    "This is a my brute force idea\n",
    "\n",
    "Algorithm \n",
    "\n",
    "if temp is equal len of $arr2$ it means that traverse through all elements from $arr2$ and check if for fixed element from $arr1$ holds inequality from definition."
   ]
  },
  {
   "cell_type": "code",
   "execution_count": 3,
   "id": "33159b85",
   "metadata": {},
   "outputs": [
    {
     "data": {
      "text/plain": [
       "2"
      ]
     },
     "execution_count": 3,
     "metadata": {},
     "output_type": "execute_result"
    }
   ],
   "source": [
    "def findTheDistanceValue(arr1, arr2, d: int) -> int:\n",
    "        arr_dist=0\n",
    "        l2=len(arr2)\n",
    "        for i in arr1:\n",
    "            temp=0\n",
    "            for j in arr2:\n",
    "                if abs(i-j)>d:\n",
    "                    temp+=1\n",
    "                    if temp==l2: \n",
    "                        arr_dist+=1\n",
    "                else:\n",
    "                    break    \n",
    "        return arr_dist \n",
    "findTheDistanceValue(arr1=[4,5,8],\n",
    "                    arr2=[10,9,1,8],\n",
    "                    d=2)    "
   ]
  },
  {
   "cell_type": "markdown",
   "id": "11273591",
   "metadata": {},
   "source": [
    "More optimal is a solution that uses binary search."
   ]
  },
  {
   "cell_type": "code",
   "execution_count": null,
   "id": "42589102",
   "metadata": {},
   "outputs": [],
   "source": [
    "def findTheDistanceValue(self, arr1: List[int], arr2: List[int], d: int) -> int:\n",
    "        # binary search for diff <= d, if found return 0, else 1\n",
    "        def binSearch(value: int) -> int:\n",
    "            low, high = 0, len(arr2) - 1 \n",
    "\n",
    "            # Repeat until the pointers low and high meet each other\n",
    "            while low <= high:              \n",
    "                mid = (low + high) // 2\n",
    "\n",
    "                if abs(value-arr2[mid]) <= d: \n",
    "                    return 0\n",
    "                if v > arr2[mid]: \n",
    "                    low = mid + 1               # go right side\n",
    "                else: \n",
    "                    high = mid - 1              # go left side\n",
    "            \n",
    "            # no such value found where diff <= d\n",
    "            return 1\n",
    "\n",
    "        # sort the array so that we can perform binary-search\n",
    "        arr2.sort()\n",
    "\n",
    "        # distance value count\n",
    "        dValueCount = 0\n",
    "        \n",
    "        # search for diff <= d for each num \n",
    "        for v in arr1:\n",
    "            dValueCount += binSearch(v)\n",
    "        return dValueCount"
   ]
  }
 ],
 "metadata": {
  "kernelspec": {
   "display_name": "Python 3 (ipykernel)",
   "language": "python",
   "name": "python3"
  },
  "language_info": {
   "codemirror_mode": {
    "name": "ipython",
    "version": 3
   },
   "file_extension": ".py",
   "mimetype": "text/x-python",
   "name": "python",
   "nbconvert_exporter": "python",
   "pygments_lexer": "ipython3",
   "version": "3.11.0"
  }
 },
 "nbformat": 4,
 "nbformat_minor": 5
}
