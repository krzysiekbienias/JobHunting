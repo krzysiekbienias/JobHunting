{
 "cells": [
  {
   "cell_type": "markdown",
   "id": "552e7fb2",
   "metadata": {},
   "source": [
    "# Linked List Node class"
   ]
  },
  {
   "cell_type": "code",
   "execution_count": 5,
   "id": "e718f46d",
   "metadata": {},
   "outputs": [],
   "source": [
    "import numpy as np"
   ]
  },
  {
   "cell_type": "code",
   "execution_count": 20,
   "id": "7bb26eed",
   "metadata": {},
   "outputs": [],
   "source": [
    "class linkedListNode:\n",
    "    def __init__(self,value=0,nextNode=None):\n",
    "        self._value=value\n",
    "        self._nextNode=nextNode\n",
    "        \n",
    "class linkedList:\n",
    "    def __init__(self,head=None):\n",
    "        self._head=head\n",
    "        \n",
    "    def insertNode(self,value):\n",
    "        node=linkedListNode(value)\n",
    "        if self._head is None:\n",
    "            self._head=node\n",
    "            return\n",
    "        \n",
    "        currentNode=self._head\n",
    "        while True:\n",
    "            if currentNode._nextNode is None:\n",
    "                currentNode._nextNode=node\n",
    "                break\n",
    "            currentNode=currentNode._nextNode\n",
    "        \n",
    "    \n",
    "    def printLinkedList(self):\n",
    "        currentNode=self._head\n",
    "        while currentNode is not None:\n",
    "            \n",
    "            print (currentNode._value,end=\"->\")\n",
    "            currentNode=currentNode._nextNode\n",
    "                   \n",
    "        print (\"None\")    \n",
    "        \n",
    "        \n",
    "        "
   ]
  },
  {
   "cell_type": "code",
   "execution_count": 21,
   "id": "26231c16",
   "metadata": {},
   "outputs": [
    {
     "name": "stdout",
     "output_type": "stream",
     "text": [
      "None\n"
     ]
    }
   ],
   "source": [
    "if __name__==\"__main__\":\n",
    "    ln=linkedList()\n",
    "    ln.printLinkedList()\n",
    "    arr=np.array([3,4,8,1,4])\n",
    "    arr\n",
    "    "
   ]
  },
  {
   "cell_type": "code",
   "execution_count": 22,
   "id": "98200e13",
   "metadata": {},
   "outputs": [],
   "source": [
    "for i in arr:\n",
    "    ln.insertNode(str(i))\n"
   ]
  },
  {
   "cell_type": "code",
   "execution_count": 23,
   "id": "821c1383",
   "metadata": {},
   "outputs": [
    {
     "name": "stdout",
     "output_type": "stream",
     "text": [
      "3->4->8->1->4->None\n"
     ]
    }
   ],
   "source": [
    "ln.printLinkedList()"
   ]
  },
  {
   "cell_type": "code",
   "execution_count": null,
   "id": "1fb192bc",
   "metadata": {},
   "outputs": [],
   "source": []
  },
  {
   "cell_type": "code",
   "execution_count": null,
   "id": "9524d8da",
   "metadata": {},
   "outputs": [],
   "source": []
  }
 ],
 "metadata": {
  "kernelspec": {
   "display_name": "Python 3 (ipykernel)",
   "language": "python",
   "name": "python3"
  },
  "language_info": {
   "codemirror_mode": {
    "name": "ipython",
    "version": 3
   },
   "file_extension": ".py",
   "mimetype": "text/x-python",
   "name": "python",
   "nbconvert_exporter": "python",
   "pygments_lexer": "ipython3",
   "version": "3.11.0"
  }
 },
 "nbformat": 4,
 "nbformat_minor": 5
}
