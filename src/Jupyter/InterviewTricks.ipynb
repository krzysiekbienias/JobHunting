{
 "cells": [
  {
   "cell_type": "markdown",
   "id": "09cf81af",
   "metadata": {},
   "source": [
    "# How to sort by dictionary by values."
   ]
  },
  {
   "cell_type": "code",
   "execution_count": 1,
   "id": "f1848d18",
   "metadata": {},
   "outputs": [
    {
     "data": {
      "text/plain": [
       "{'z': 5, 'e': 2, 't': 1, 'r': 1}"
      ]
     },
     "execution_count": 1,
     "metadata": {},
     "output_type": "execute_result"
    }
   ],
   "source": [
    "d1={\"t\":1,\"r\":1,\"e\":2,\"z\":5}\n",
    "sorted_di=sorted_by_value={k:v for k, v in sorted(d1.items(), key=lambda item: item[1],reverse=True)}\n",
    "sorted_di"
   ]
  },
  {
   "cell_type": "code",
   "execution_count": 6,
   "id": "1dcdbe19",
   "metadata": {},
   "outputs": [
    {
     "data": {
      "text/plain": [
       "{'aaa': -1}"
      ]
     },
     "execution_count": 6,
     "metadata": {},
     "output_type": "execute_result"
    }
   ],
   "source": [
    "d1={}\n",
    "d1['aaa']=-1\n",
    "d1"
   ]
  },
  {
   "cell_type": "markdown",
   "id": "feef5cf9",
   "metadata": {},
   "source": [
    "# How to make capital letters"
   ]
  },
  {
   "cell_type": "code",
   "execution_count": 1,
   "id": "47c28f53",
   "metadata": {},
   "outputs": [
    {
     "data": {
      "text/plain": [
       "'ABS PL'"
      ]
     },
     "execution_count": 1,
     "metadata": {},
     "output_type": "execute_result"
    }
   ],
   "source": [
    "s1='abs pl'\n",
    "cap=s1.upper()\n",
    "cap"
   ]
  },
  {
   "cell_type": "markdown",
   "id": "cf827cec",
   "metadata": {},
   "source": [
    "# Greates Common Divisors and the Least Common Multiplie"
   ]
  },
  {
   "cell_type": "code",
   "execution_count": 8,
   "id": "0895681a",
   "metadata": {},
   "outputs": [],
   "source": [
    "def gcd(a,b):\n",
    "    if (a==0):\n",
    "        return b\n",
    "    elif (b==0):\n",
    "        return a\n",
    "    if (a<b):\n",
    "        return gcd(a,b%a)\n",
    "    else:\n",
    "        return gcd(b,a%b)"
   ]
  },
  {
   "cell_type": "code",
   "execution_count": 13,
   "id": "9f90adac",
   "metadata": {},
   "outputs": [
    {
     "data": {
      "text/plain": [
       "3"
      ]
     },
     "execution_count": 13,
     "metadata": {},
     "output_type": "execute_result"
    }
   ],
   "source": [
    "gcd(15,24)"
   ]
  },
  {
   "cell_type": "markdown",
   "id": "d3042137",
   "metadata": {},
   "source": [
    "# Stats\n"
   ]
  },
  {
   "cell_type": "markdown",
   "id": "10a6ea8a",
   "metadata": {},
   "source": [
    "## Median"
   ]
  },
  {
   "cell_type": "code",
   "execution_count": 3,
   "id": "fb2161a3",
   "metadata": {},
   "outputs": [],
   "source": [
    "def find_median(arr):\n",
    "    median=0\n",
    "    arr.sort()\n",
    "    middle_index=int(len(arr)/2)\n",
    "    if len(arr)%2!=0:\n",
    "        median=arr[middle_index]\n",
    "        return median\n",
    "    else:\n",
    "        median=(arr[middle_index]+arr[middle_index-1])/2\n",
    "        return median"
   ]
  },
  {
   "cell_type": "code",
   "execution_count": 6,
   "id": "81930293",
   "metadata": {},
   "outputs": [
    {
     "data": {
      "text/plain": [
       "2.5"
      ]
     },
     "execution_count": 6,
     "metadata": {},
     "output_type": "execute_result"
    }
   ],
   "source": [
    "find_median([0,1,2,3,4,5])"
   ]
  },
  {
   "cell_type": "markdown",
   "id": "d1c5993e",
   "metadata": {},
   "source": [
    "## Mode"
   ]
  },
  {
   "cell_type": "code",
   "execution_count": null,
   "id": "f9c71db9",
   "metadata": {},
   "outputs": [],
   "source": [
    "def find_mode(arr):\n",
    "    pass\n"
   ]
  },
  {
   "cell_type": "markdown",
   "id": "d4b151ec",
   "metadata": {},
   "source": [
    "# Probability"
   ]
  },
  {
   "cell_type": "markdown",
   "id": "f18962f6",
   "metadata": {},
   "source": [
    "## Erf Function"
   ]
  },
  {
   "cell_type": "markdown",
   "id": "d3814eaa",
   "metadata": {},
   "source": [
    "The error function is \n",
    "$$\n",
    "Erf(x)=\\frac{2}{\\sqrt{\\pi}}\\int_{0}^{x}e^{-t^{2}}dt\n",
    "$$\n",
    "This function might be use to express normal distribution.\n",
    "$$\n",
    "\\Phi(x,\\mu,\\sigma)=\\frac{1}{2}(1+Erf(\\frac{x-\\mu}{\\sigma\\sqrt{2}})\n",
    "$$"
   ]
  },
  {
   "cell_type": "markdown",
   "id": "86d127ca",
   "metadata": {},
   "source": [
    "## Normal Distribution"
   ]
  },
  {
   "cell_type": "markdown",
   "id": "0625b87a",
   "metadata": {},
   "source": [
    "$X$ is a normally distributed variable with a mean $\\mu=30$ and a standard deviation of $\\sigma=4$ . Find:\n",
    "* $P(X<40)$\n",
    "* $P(X>21)$\n",
    "* $P(30<X<35)$"
   ]
  },
  {
   "cell_type": "code",
   "execution_count": 1,
   "id": "fd21567d",
   "metadata": {},
   "outputs": [
    {
     "name": "stdout",
     "output_type": "stream",
     "text": [
      "0.994\n",
      "0.988\n",
      "0.394\n"
     ]
    }
   ],
   "source": [
    "import math\n",
    "\n",
    "def cdf(x):\n",
    "    return (1+math.erf(x/math.sqrt(2)))/2\n",
    "\n",
    "ans1=cdf(2.5)\n",
    "ans2=1-cdf((21-30)/4)\n",
    "ans3=cdf(5/4)-cdf(0)\n",
    "\n",
    "print(\"{:.3f}\".format(ans1))\n",
    "print(\"{:.3f}\".format(ans2))\n",
    "print(\"{:.3f}\".format(ans3))\n"
   ]
  },
  {
   "cell_type": "markdown",
   "id": "675d6b9a",
   "metadata": {},
   "source": [
    "# Stock Predictions (different variants)\n",
    "###  Minimum Loss (HakerRank)\n",
    "Lauren has a chart of distinct projected prices for a house over the next several years. She must buy the house in one year and sell it in another, and she must do so at a loss. She wants to minimize her financial loss.\n",
    "\n",
    "Example: price=$[20,15,8,2,12]$. Her minimum loss is incurred by purchasing in 2 at price $price[1]=15$ and reselling in year 5 at $price[4]=12$ Return 3"
   ]
  },
  {
   "cell_type": "code",
   "execution_count": 3,
   "id": "ba9b068b",
   "metadata": {},
   "outputs": [
    {
     "name": "stdout",
     "output_type": "stream",
     "text": [
      "selling with loss possible\n",
      "selling with provit. Not valid.\n",
      "selling with loss possible\n",
      "selling with loss possible\n"
     ]
    },
    {
     "data": {
      "text/plain": [
       "3"
      ]
     },
     "execution_count": 3,
     "metadata": {},
     "output_type": "execute_result"
    }
   ],
   "source": [
    "def minimumLoss(arr):\n",
    "    price_map=dict(zip(arr,range(len(arr)))) #only works if all prices are different\n",
    "    arr.sort()\n",
    "    min_loss=float(\"inf\")\n",
    "\n",
    "    for i in range(1,len(arr)):\n",
    "        if price_map[arr[i]]<price_map[arr[i-1]]:\n",
    "            min_loss=min(min_loss,arr[i]-arr[i-1])\n",
    "            print('selling with loss possible')\n",
    "        else:\n",
    "            print('selling with provit. Not valid.')\n",
    "    return abs(min_loss)\n",
    "\n",
    "minimumLoss(arr=[20,15,8,2,12])"
   ]
  },
  {
   "cell_type": "code",
   "execution_count": null,
   "id": "6337b607",
   "metadata": {},
   "outputs": [],
   "source": []
  }
 ],
 "metadata": {
  "kernelspec": {
   "display_name": "Python 3 (ipykernel)",
   "language": "python",
   "name": "python3"
  },
  "language_info": {
   "codemirror_mode": {
    "name": "ipython",
    "version": 3
   },
   "file_extension": ".py",
   "mimetype": "text/x-python",
   "name": "python",
   "nbconvert_exporter": "python",
   "pygments_lexer": "ipython3",
   "version": "3.11.0"
  }
 },
 "nbformat": 4,
 "nbformat_minor": 5
}
