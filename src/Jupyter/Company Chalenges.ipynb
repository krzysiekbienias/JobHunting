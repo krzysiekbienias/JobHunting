{
 "cells": [
  {
   "cell_type": "markdown",
   "id": "a504b739",
   "metadata": {},
   "source": [
    "# Datto\n",
    "## Incremental Backup (SOLVED)\n",
    "\n",
    "One of the easiest ways to back up files is with an incremental backup. This method only backs up files that have changed since the last backup.\n",
    "\n",
    "You are given a list of changes that were made to the files in your database, where for each valid i, changes[i][0] is the timestamp of the time the change was made, and changes[i][1] is the file id.\n",
    "\n",
    "Knowing the timestamp of the last backup lastBackupTime, your task is to find the files which should be included in the next backup. Return the ids of the files that should be backed up as an array sorted in ascending order\n",
    "\n",
    "For lastBackupTime = 461620205 and\n",
    "\n",
    "changes = [[461620203, 1], \n",
    "           [461620204, 2], \n",
    "           [461620205, 6],\n",
    "           [461620206, 5], \n",
    "           [461620207, 3], \n",
    "           [461620207, 5], \n",
    "           [461620208, 1]]\n",
    "the output should be\n",
    "solution(lastBackupTime, changes) = [1, 3, 5].\n",
    "\n",
    "Here's how the answer is calculated:\n",
    "\n",
    "File with id = 1 was changed at 461620203 and 461620208, and since the last backup was at 461620205, it should be included in the next backup.\n",
    "File with id = 2 was changed only at 461620204, so there's no need to back it up.\n",
    "File with id = 3 was changed at 461620207, so it should be backed up next time.\n",
    "File with id = 5 was changed at 461620206 and 461620207, so it should be included in the new backup as well.\n",
    "File with id = 6 was changed at 461620205, so it can be ignored."
   ]
  },
  {
   "cell_type": "code",
   "execution_count": 2,
   "id": "6829c705",
   "metadata": {},
   "outputs": [],
   "source": [
    "def incremental_backups(lastBackupTime, changes):\n",
    "    results=[]\n",
    "    for change in changes:\n",
    "        if change[0]>lastBackupTime and change[1] not in results:\n",
    "            results.append(change[1])\n",
    "        else:\n",
    "            continue\n",
    "    results.sort()\n",
    "    return results"
   ]
  },
  {
   "cell_type": "code",
   "execution_count": 4,
   "id": "8a30f3cd",
   "metadata": {},
   "outputs": [
    {
     "data": {
      "text/plain": [
       "[1, 3, 5]"
      ]
     },
     "execution_count": 4,
     "metadata": {},
     "output_type": "execute_result"
    }
   ],
   "source": [
    "incremental_backups(lastBackupTime=461620205,\n",
    "                        changes=[[461620203, 1],\n",
    "                                   [461620204, 2],\n",
    "                                   [461620205, 6],\n",
    "                                   [461620206, 5],\n",
    "                                   [461620207, 3],\n",
    "                                   [461620207, 5],\n",
    "                                   [461620208, 1]])"
   ]
  },
  {
   "cell_type": "code",
   "execution_count": null,
   "id": "99b33610",
   "metadata": {},
   "outputs": [],
   "source": []
  }
 ],
 "metadata": {
  "kernelspec": {
   "display_name": "Python 3 (ipykernel)",
   "language": "python",
   "name": "python3"
  },
  "language_info": {
   "codemirror_mode": {
    "name": "ipython",
    "version": 3
   },
   "file_extension": ".py",
   "mimetype": "text/x-python",
   "name": "python",
   "nbconvert_exporter": "python",
   "pygments_lexer": "ipython3",
   "version": "3.11.0"
  }
 },
 "nbformat": 4,
 "nbformat_minor": 5
}
